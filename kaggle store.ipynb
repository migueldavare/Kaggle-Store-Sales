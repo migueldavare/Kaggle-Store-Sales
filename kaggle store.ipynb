{
 "cells": [
  {
   "cell_type": "markdown",
   "id": "a79e8741",
   "metadata": {},
   "source": [
    "## This DS is from kaggle: https://www.kaggle.com/competitions/store-sales-time-series-forecasting\n",
    "\n",
    "Its made from 7 csv files."
   ]
  },
  {
   "cell_type": "code",
   "execution_count": 1,
   "id": "1fe5fe90",
   "metadata": {},
   "outputs": [],
   "source": [
    "import pandas as pd\n",
    "import numpy as np\n",
    "import matplotlib.pyplot as plt\n",
    "import seaborn as sns\n",
    "from plotly import __version__\n",
    "from plotly.offline import download_plotlyjs, init_notebook_mode, plot, iplot\n",
    "import cufflinks as cf\n",
    "%matplotlib inline"
   ]
  },
  {
   "cell_type": "code",
   "execution_count": 2,
   "id": "a8ac55ad",
   "metadata": {},
   "outputs": [
    {
     "data": {
      "text/html": [
       "        <script type=\"text/javascript\">\n",
       "        window.PlotlyConfig = {MathJaxConfig: 'local'};\n",
       "        if (window.MathJax) {MathJax.Hub.Config({SVG: {font: \"STIX-Web\"}});}\n",
       "        if (typeof require !== 'undefined') {\n",
       "        require.undef(\"plotly\");\n",
       "        requirejs.config({\n",
       "            paths: {\n",
       "                'plotly': ['https://cdn.plot.ly/plotly-2.9.0.min']\n",
       "            }\n",
       "        });\n",
       "        require(['plotly'], function(Plotly) {\n",
       "            window._Plotly = Plotly;\n",
       "        });\n",
       "        }\n",
       "        </script>\n",
       "        "
      ]
     },
     "metadata": {},
     "output_type": "display_data"
    },
    {
     "data": {
      "text/html": [
       "        <script type=\"text/javascript\">\n",
       "        window.PlotlyConfig = {MathJaxConfig: 'local'};\n",
       "        if (window.MathJax) {MathJax.Hub.Config({SVG: {font: \"STIX-Web\"}});}\n",
       "        if (typeof require !== 'undefined') {\n",
       "        require.undef(\"plotly\");\n",
       "        requirejs.config({\n",
       "            paths: {\n",
       "                'plotly': ['https://cdn.plot.ly/plotly-2.9.0.min']\n",
       "            }\n",
       "        });\n",
       "        require(['plotly'], function(Plotly) {\n",
       "            window._Plotly = Plotly;\n",
       "        });\n",
       "        }\n",
       "        </script>\n",
       "        "
      ]
     },
     "metadata": {},
     "output_type": "display_data"
    }
   ],
   "source": [
    "## for plot with iplot\n",
    "init_notebook_mode(connected=True)\n",
    "cf.go_offline()"
   ]
  },
  {
   "cell_type": "code",
   "execution_count": 3,
   "id": "f7ee2b38",
   "metadata": {},
   "outputs": [],
   "source": [
    "# import Train Data Set\n",
    "train=pd.read_csv('train.csv')\n",
    "# import Test Data Set\n",
    "test=pd.read_csv('test.csv')"
   ]
  },
  {
   "cell_type": "code",
   "execution_count": 4,
   "id": "ca82f3fd",
   "metadata": {},
   "outputs": [
    {
     "data": {
      "text/html": [
       "<div>\n",
       "<style scoped>\n",
       "    .dataframe tbody tr th:only-of-type {\n",
       "        vertical-align: middle;\n",
       "    }\n",
       "\n",
       "    .dataframe tbody tr th {\n",
       "        vertical-align: top;\n",
       "    }\n",
       "\n",
       "    .dataframe thead th {\n",
       "        text-align: right;\n",
       "    }\n",
       "</style>\n",
       "<table border=\"1\" class=\"dataframe\">\n",
       "  <thead>\n",
       "    <tr style=\"text-align: right;\">\n",
       "      <th></th>\n",
       "      <th>id</th>\n",
       "      <th>date</th>\n",
       "      <th>store_nbr</th>\n",
       "      <th>family</th>\n",
       "      <th>sales</th>\n",
       "      <th>onpromotion</th>\n",
       "    </tr>\n",
       "  </thead>\n",
       "  <tbody>\n",
       "    <tr>\n",
       "      <th>0</th>\n",
       "      <td>0</td>\n",
       "      <td>2013-01-01</td>\n",
       "      <td>1</td>\n",
       "      <td>AUTOMOTIVE</td>\n",
       "      <td>0.0</td>\n",
       "      <td>0</td>\n",
       "    </tr>\n",
       "    <tr>\n",
       "      <th>1</th>\n",
       "      <td>1</td>\n",
       "      <td>2013-01-01</td>\n",
       "      <td>1</td>\n",
       "      <td>BABY CARE</td>\n",
       "      <td>0.0</td>\n",
       "      <td>0</td>\n",
       "    </tr>\n",
       "    <tr>\n",
       "      <th>2</th>\n",
       "      <td>2</td>\n",
       "      <td>2013-01-01</td>\n",
       "      <td>1</td>\n",
       "      <td>BEAUTY</td>\n",
       "      <td>0.0</td>\n",
       "      <td>0</td>\n",
       "    </tr>\n",
       "    <tr>\n",
       "      <th>3</th>\n",
       "      <td>3</td>\n",
       "      <td>2013-01-01</td>\n",
       "      <td>1</td>\n",
       "      <td>BEVERAGES</td>\n",
       "      <td>0.0</td>\n",
       "      <td>0</td>\n",
       "    </tr>\n",
       "    <tr>\n",
       "      <th>4</th>\n",
       "      <td>4</td>\n",
       "      <td>2013-01-01</td>\n",
       "      <td>1</td>\n",
       "      <td>BOOKS</td>\n",
       "      <td>0.0</td>\n",
       "      <td>0</td>\n",
       "    </tr>\n",
       "  </tbody>\n",
       "</table>\n",
       "</div>"
      ],
      "text/plain": [
       "   id        date  store_nbr      family  sales  onpromotion\n",
       "0   0  2013-01-01          1  AUTOMOTIVE    0.0            0\n",
       "1   1  2013-01-01          1   BABY CARE    0.0            0\n",
       "2   2  2013-01-01          1      BEAUTY    0.0            0\n",
       "3   3  2013-01-01          1   BEVERAGES    0.0            0\n",
       "4   4  2013-01-01          1       BOOKS    0.0            0"
      ]
     },
     "execution_count": 4,
     "metadata": {},
     "output_type": "execute_result"
    }
   ],
   "source": [
    "train.head()"
   ]
  },
  {
   "cell_type": "raw",
   "id": "561279c4",
   "metadata": {},
   "source": []
  },
  {
   "cell_type": "code",
   "execution_count": 5,
   "id": "0a1c6501",
   "metadata": {},
   "outputs": [
    {
     "data": {
      "text/plain": [
       "(3000888, 6)"
      ]
     },
     "execution_count": 5,
     "metadata": {},
     "output_type": "execute_result"
    }
   ],
   "source": [
    "train.shape"
   ]
  },
  {
   "cell_type": "code",
   "execution_count": 6,
   "id": "ec388d64",
   "metadata": {},
   "outputs": [
    {
     "data": {
      "text/plain": [
       "id             3000888\n",
       "date              1684\n",
       "store_nbr           54\n",
       "family              33\n",
       "sales           379610\n",
       "onpromotion        362\n",
       "dtype: int64"
      ]
     },
     "execution_count": 6,
     "metadata": {},
     "output_type": "execute_result"
    }
   ],
   "source": [
    "train.nunique()"
   ]
  },
  {
   "cell_type": "code",
   "execution_count": null,
   "id": "76d5a9ca",
   "metadata": {},
   "outputs": [],
   "source": [
    "plt.figure(figsize=(10,6))\n",
    "plt.plot_date(data=train,x='date',y='sales')"
   ]
  },
  {
   "cell_type": "code",
   "execution_count": null,
   "id": "0438b221",
   "metadata": {},
   "outputs": [],
   "source": [
    "oil=pd.read_csv('oil.csv')\n",
    "oil.tail()\n"
   ]
  },
  {
   "cell_type": "code",
   "execution_count": null,
   "id": "7afd109c",
   "metadata": {},
   "outputs": [],
   "source": [
    "plt.plot(oil['dcoilwtico'])"
   ]
  },
  {
   "cell_type": "code",
   "execution_count": null,
   "id": "4469f1a2",
   "metadata": {},
   "outputs": [],
   "source": [
    "stores=pd.read_csv('stores.csv')\n",
    "stores.head()"
   ]
  },
  {
   "cell_type": "code",
   "execution_count": null,
   "id": "4b906449",
   "metadata": {},
   "outputs": [],
   "source": []
  },
  {
   "cell_type": "code",
   "execution_count": null,
   "id": "4298ca14",
   "metadata": {},
   "outputs": [],
   "source": [
    "df1=pd.merge(train,stores,on='store_nbr',how='inner')\n",
    "df1.tail()\n"
   ]
  },
  {
   "cell_type": "code",
   "execution_count": null,
   "id": "389b0a10",
   "metadata": {},
   "outputs": [],
   "source": [
    "df1.shape"
   ]
  },
  {
   "cell_type": "code",
   "execution_count": null,
   "id": "c6858da4",
   "metadata": {},
   "outputs": [],
   "source": [
    "df1['date'].nunique()"
   ]
  },
  {
   "cell_type": "code",
   "execution_count": null,
   "id": "33917efe",
   "metadata": {},
   "outputs": [],
   "source": [
    "oil['date'].nunique()"
   ]
  },
  {
   "cell_type": "code",
   "execution_count": null,
   "id": "3b42d9d9",
   "metadata": {},
   "outputs": [],
   "source": [
    "df2=df1.merge(oil,on='date',how='left')\n",
    "df2"
   ]
  },
  {
   "cell_type": "code",
   "execution_count": null,
   "id": "135329f0",
   "metadata": {},
   "outputs": [],
   "source": [
    "df2.info()"
   ]
  },
  {
   "cell_type": "code",
   "execution_count": null,
   "id": "5c4db285",
   "metadata": {},
   "outputs": [],
   "source": [
    "holidays=pd.read_csv('holidays_events.csv')\n",
    "holidays1=holidays[(holidays['date']>='2013-01-01') & (holidays['date']<='2017-08-15')]\n",
    "holidays1"
   ]
  },
  {
   "cell_type": "code",
   "execution_count": null,
   "id": "b64783a8",
   "metadata": {},
   "outputs": [],
   "source": [
    "df2['date'].nunique()"
   ]
  },
  {
   "cell_type": "code",
   "execution_count": null,
   "id": "145ec14e",
   "metadata": {},
   "outputs": [],
   "source": [
    "df3=pd.merge(df2,holidays1,on='date',how='left')\n",
    "df3"
   ]
  },
  {
   "cell_type": "code",
   "execution_count": null,
   "id": "134579f4",
   "metadata": {},
   "outputs": [],
   "source": [
    "df3['date'].nunique()"
   ]
  },
  {
   "cell_type": "code",
   "execution_count": null,
   "id": "06c9671e",
   "metadata": {},
   "outputs": [],
   "source": [
    "from datetime import datetime\n",
    "import calendar\n",
    "\n",
    "def ifpaidday(date):\n",
    "    fecha_dt = datetime.strptime(date, '%Y-%m-%d')  #convert str to date\n",
    "    endday=fecha_dt.replace(day = calendar.monthrange(fecha_dt.year, fecha_dt.month)[1]) ##compare if is end of month\n",
    "    if fecha_dt.day ==15: ##mid paidment\n",
    "        payday=1\n",
    "    elif endday==fecha_dt: # Final paidment\n",
    "        payday=1\n",
    "    else:\n",
    "        payday=0 #no paidment\n",
    "    return payday"
   ]
  },
  {
   "cell_type": "code",
   "execution_count": null,
   "id": "e5ca48c3",
   "metadata": {},
   "outputs": [],
   "source": []
  },
  {
   "cell_type": "code",
   "execution_count": null,
   "id": "cee1ac0c",
   "metadata": {},
   "outputs": [],
   "source": [
    "df3['paid_day']=df3['date'].apply(ifpaidday)  #apply func to know if there is a paid day :1 yes, 0 : no\n"
   ]
  },
  {
   "cell_type": "code",
   "execution_count": null,
   "id": "931cc2a5",
   "metadata": {},
   "outputs": [],
   "source": [
    "df3"
   ]
  },
  {
   "cell_type": "code",
   "execution_count": null,
   "id": "5e45cd30",
   "metadata": {},
   "outputs": [],
   "source": [
    "HQ=df3.groupby('date').sum()\n",
    "HQ.reset_index(inplace=True)\n"
   ]
  },
  {
   "cell_type": "code",
   "execution_count": null,
   "id": "65d5eb20",
   "metadata": {},
   "outputs": [],
   "source": [
    "#its posible to see the peak of sale after the earthquake\n",
    "HQ.iplot(kind='scatter',x='date',y='sales')"
   ]
  },
  {
   "cell_type": "code",
   "execution_count": null,
   "id": "c4e3d431",
   "metadata": {},
   "outputs": [],
   "source": [
    "mean2016=HQ[(HQ['date']>'2016-01-01')&(HQ['date']<'2016-12-31')]\n"
   ]
  },
  {
   "cell_type": "code",
   "execution_count": null,
   "id": "e9c0a89f",
   "metadata": {},
   "outputs": [],
   "source": [
    "mean2016.describe()"
   ]
  },
  {
   "cell_type": "markdown",
   "id": "d54860a9",
   "metadata": {},
   "source": [
    "##on this period (from 2016-04-14 to 2016-04-21)earthquake we will normalize sales value with the mean of the year  (8.456426)"
   ]
  },
  {
   "cell_type": "code",
   "execution_count": null,
   "id": "92e23da2",
   "metadata": {},
   "outputs": [],
   "source": [
    "#df3[(df3['date']>'2016-04-13')&(df3['date']<'2016-04-22')]"
   ]
  },
  {
   "cell_type": "code",
   "execution_count": null,
   "id": "45453db2",
   "metadata": {},
   "outputs": [],
   "source": [
    "#df3['sales'][224532:235223]=845642.6"
   ]
  },
  {
   "cell_type": "code",
   "execution_count": null,
   "id": "7b57ce30",
   "metadata": {},
   "outputs": [],
   "source": [
    "#HQ['sales'][112:118]"
   ]
  },
  {
   "cell_type": "code",
   "execution_count": null,
   "id": "f077e2ae",
   "metadata": {},
   "outputs": [],
   "source": [
    "#HQ.iplot(kind='scatter',x='date',y='sales')"
   ]
  },
  {
   "cell_type": "code",
   "execution_count": null,
   "id": "289dc530",
   "metadata": {},
   "outputs": [],
   "source": [
    "df3"
   ]
  },
  {
   "cell_type": "code",
   "execution_count": null,
   "id": "92d2c062",
   "metadata": {},
   "outputs": [],
   "source": [
    "l1=['family']\n",
    "df4=pd.get_dummies(df3,columns=l1,drop_first=True)"
   ]
  },
  {
   "cell_type": "code",
   "execution_count": null,
   "id": "1b9789e5",
   "metadata": {},
   "outputs": [],
   "source": [
    "l2=['type_x']\n",
    "df5=pd.get_dummies(df4,columns=l2,drop_first=True)"
   ]
  },
  {
   "cell_type": "code",
   "execution_count": null,
   "id": "6d3f0605",
   "metadata": {},
   "outputs": [],
   "source": [
    "l3=['city']\n",
    "df6=pd.get_dummies(df5,columns=l3,drop_first=True)\n",
    "df6"
   ]
  },
  {
   "cell_type": "code",
   "execution_count": null,
   "id": "e39d8972",
   "metadata": {},
   "outputs": [],
   "source": [
    "l4=['state']\n",
    "df7=pd.get_dummies(df6,columns=l4,drop_first=True)\n",
    "df7.head()"
   ]
  },
  {
   "cell_type": "code",
   "execution_count": null,
   "id": "58ef5996",
   "metadata": {},
   "outputs": [],
   "source": [
    "l5=['type_y']\n",
    "df8=pd.get_dummies(df7,columns=l5,drop_first=True)\n",
    "df8.head()"
   ]
  },
  {
   "cell_type": "code",
   "execution_count": null,
   "id": "504f17b0",
   "metadata": {},
   "outputs": [],
   "source": [
    "#l6=['locale']\n",
    "#df9=pd.get_dummies(df8,columns=l6,drop_first=True)\n",
    "#df9.head()\n",
    "df9=df8"
   ]
  },
  {
   "cell_type": "code",
   "execution_count": null,
   "id": "e63ff9b1",
   "metadata": {},
   "outputs": [],
   "source": [
    "#l7=['locale_name']\n",
    "#df10=pd.get_dummies(df9,columns=l7,drop_first=True)\n",
    "#df10.head()\n",
    "df10=df9"
   ]
  },
  {
   "cell_type": "code",
   "execution_count": null,
   "id": "22d5c091",
   "metadata": {},
   "outputs": [],
   "source": [
    "#l8=['description']\n",
    "#df11=pd.get_dummies(df10,columns=l8,drop_first=True)\n",
    "#df11.head()\n",
    "df11=df10.drop('description',axis=1)\n"
   ]
  },
  {
   "cell_type": "code",
   "execution_count": null,
   "id": "08cb8f65",
   "metadata": {},
   "outputs": [],
   "source": [
    "def conv_datey(date):\n",
    "    fecha_dt = datetime.strptime(date, '%Y-%m-%d') #convert str to date\n",
    "    ryear=fecha_dt.year\n",
    "    return ryear \n",
    "def conv_datem(date):\n",
    "    fecha_dt = datetime.strptime(date, '%Y-%m-%d') #convert str to date\n",
    "    rmonth=fecha_dt.month\n",
    "    return rmonth\n",
    "def conv_dated(date):\n",
    "    fecha_dt = datetime.strptime(date, '%Y-%m-%d') #convert str to date\n",
    "    rday=fecha_dt.day\n",
    "    return rday "
   ]
  },
  {
   "cell_type": "code",
   "execution_count": null,
   "id": "5752f424",
   "metadata": {},
   "outputs": [],
   "source": [
    "df11['year']=df11['date'].apply(conv_datey)\n",
    "df11['month']=df11['date'].apply(conv_datem)\n",
    "df11['day']=df11['date'].apply(conv_dated)"
   ]
  },
  {
   "cell_type": "code",
   "execution_count": null,
   "id": "b842d513",
   "metadata": {},
   "outputs": [],
   "source": [
    "#df11['day'].tail()"
   ]
  },
  {
   "cell_type": "code",
   "execution_count": null,
   "id": "b324638b",
   "metadata": {},
   "outputs": [],
   "source": [
    "\n",
    "df11.drop(['date','locale'],axis=1,inplace=True)"
   ]
  },
  {
   "cell_type": "code",
   "execution_count": null,
   "id": "402cf737",
   "metadata": {},
   "outputs": [],
   "source": [
    "#def trans(data):  #convert Data Type\n",
    "#    if data==True:\n",
    "#        o=1\n",
    "#    else: o=0\n",
    "#    return o"
   ]
  },
  {
   "cell_type": "code",
   "execution_count": null,
   "id": "bd2bd3e4",
   "metadata": {},
   "outputs": [],
   "source": [
    "#df11['transferred']=df11['transferred'].apply(trans)"
   ]
  },
  {
   "cell_type": "code",
   "execution_count": null,
   "id": "f92d143c",
   "metadata": {},
   "outputs": [],
   "source": [
    "df11.info()"
   ]
  },
  {
   "cell_type": "code",
   "execution_count": null,
   "id": "b4db6df1",
   "metadata": {},
   "outputs": [],
   "source": [
    "df11['dcoilwtico'].mean()"
   ]
  },
  {
   "cell_type": "code",
   "execution_count": null,
   "id": "264d2084",
   "metadata": {},
   "outputs": [],
   "source": [
    "nonnan=df11['dcoilwtico'].fillna(68.015) ## fill NaN values\n",
    "nonnan"
   ]
  },
  {
   "cell_type": "code",
   "execution_count": null,
   "id": "fcc40daf",
   "metadata": {},
   "outputs": [],
   "source": [
    "df11['dcoilwtico']=nonnan\n"
   ]
  },
  {
   "cell_type": "code",
   "execution_count": null,
   "id": "75a23e89",
   "metadata": {},
   "outputs": [],
   "source": [
    "df11_clean=df11.fillna(0) "
   ]
  },
  {
   "cell_type": "code",
   "execution_count": null,
   "id": "c207c073",
   "metadata": {},
   "outputs": [],
   "source": []
  },
  {
   "cell_type": "code",
   "execution_count": null,
   "id": "d8d9a16b",
   "metadata": {},
   "outputs": [],
   "source": [
    "##train_clean=df11[(df11['id']>=0) & (df11['id']<=3000887)]\n",
    "##train_clean\n",
    "\n",
    "\n",
    "##not used for now"
   ]
  },
  {
   "cell_type": "code",
   "execution_count": null,
   "id": "1a9e9bb7",
   "metadata": {},
   "outputs": [],
   "source": [
    "#test_clean=df11[(df11['id']>=3000888)]\n",
    "#test_clean"
   ]
  },
  {
   "cell_type": "markdown",
   "id": "e4b106ed",
   "metadata": {},
   "source": [
    "# Test data"
   ]
  },
  {
   "cell_type": "code",
   "execution_count": null,
   "id": "a939ba43",
   "metadata": {},
   "outputs": [],
   "source": [
    "test.info()"
   ]
  },
  {
   "cell_type": "code",
   "execution_count": null,
   "id": "5de02706",
   "metadata": {},
   "outputs": [],
   "source": [
    "df1_test=pd.merge(test,stores,on='store_nbr',how='inner')\n",
    "df1_test.tail()"
   ]
  },
  {
   "cell_type": "code",
   "execution_count": null,
   "id": "7b07d98b",
   "metadata": {},
   "outputs": [],
   "source": [
    "df2_test=df1_test.merge(oil,on='date',how='left')\n",
    "df2_test"
   ]
  },
  {
   "cell_type": "code",
   "execution_count": null,
   "id": "339bf848",
   "metadata": {},
   "outputs": [],
   "source": [
    "df2_test.info()"
   ]
  },
  {
   "cell_type": "code",
   "execution_count": null,
   "id": "1b0dddf0",
   "metadata": {},
   "outputs": [],
   "source": [
    "holidays2=holidays[(holidays['date']>='2017-08-15')]\n",
    "holidays2"
   ]
  },
  {
   "cell_type": "code",
   "execution_count": null,
   "id": "dfd52694",
   "metadata": {},
   "outputs": [],
   "source": [
    "holidays2.info()"
   ]
  },
  {
   "cell_type": "code",
   "execution_count": null,
   "id": "672fb835",
   "metadata": {},
   "outputs": [],
   "source": [
    "df3_test=pd.merge(df2_test,holidays2,on='date',how='left')\n",
    "df3_test.info()"
   ]
  },
  {
   "cell_type": "code",
   "execution_count": null,
   "id": "92991ec3",
   "metadata": {},
   "outputs": [],
   "source": [
    "l1=['family']\n",
    "df4_test=pd.get_dummies(df3_test,columns=l1,drop_first=True)"
   ]
  },
  {
   "cell_type": "code",
   "execution_count": null,
   "id": "f9895d7f",
   "metadata": {},
   "outputs": [],
   "source": [
    "l2=['type_x']\n",
    "df5_test=pd.get_dummies(df4_test,columns=l2,drop_first=True)"
   ]
  },
  {
   "cell_type": "code",
   "execution_count": null,
   "id": "b8ce2f0b",
   "metadata": {},
   "outputs": [],
   "source": [
    "l3=['city']\n",
    "df6_test=pd.get_dummies(df5_test,columns=l3,drop_first=True)\n",
    "df6_test"
   ]
  },
  {
   "cell_type": "code",
   "execution_count": null,
   "id": "83620a87",
   "metadata": {},
   "outputs": [],
   "source": [
    "l4=['state']\n",
    "df7_test=pd.get_dummies(df6_test,columns=l4,drop_first=True)\n",
    "df7_test.head()"
   ]
  },
  {
   "cell_type": "code",
   "execution_count": null,
   "id": "2eada8a3",
   "metadata": {},
   "outputs": [],
   "source": [
    "l5=['type_y']\n",
    "df8_test=pd.get_dummies(df7_test,columns=l5,drop_first=True)\n",
    "df8_test.info()"
   ]
  },
  {
   "cell_type": "code",
   "execution_count": null,
   "id": "16937094",
   "metadata": {},
   "outputs": [],
   "source": [
    "#l6=['locale']\n",
    "#df9_test=pd.get_dummies(df8_test,columns=l6,drop_first=True)\n",
    "#df9_test.info()\n",
    "df9_test=df8_test"
   ]
  },
  {
   "cell_type": "code",
   "execution_count": null,
   "id": "901190da",
   "metadata": {},
   "outputs": [],
   "source": [
    "#l7=['locale_name']\n",
    "#df10_test=pd.get_dummies(df9_test,columns=l7,drop_first=True)\n",
    "#df10_test.info()\n",
    "df10_test=df9_test"
   ]
  },
  {
   "cell_type": "code",
   "execution_count": null,
   "id": "6919594f",
   "metadata": {},
   "outputs": [],
   "source": [
    "df11_test=df10_test.drop('description',axis=1)"
   ]
  },
  {
   "cell_type": "code",
   "execution_count": null,
   "id": "3bc0a2ce",
   "metadata": {},
   "outputs": [],
   "source": [
    "df11_test['year']=df11_test['date'].apply(conv_datey)\n",
    "df11_test['month']=df11_test['date'].apply(conv_datem)\n",
    "df11_test['day']=df11_test['date'].apply(conv_dated)"
   ]
  },
  {
   "cell_type": "code",
   "execution_count": null,
   "id": "8370432a",
   "metadata": {},
   "outputs": [],
   "source": [
    "df11_test.drop('date',axis=1,inplace=True)"
   ]
  },
  {
   "cell_type": "code",
   "execution_count": null,
   "id": "771c82a1",
   "metadata": {},
   "outputs": [],
   "source": [
    "#df11_test['transferred']=df11_test['transferred'].apply(trans)"
   ]
  },
  {
   "cell_type": "code",
   "execution_count": null,
   "id": "2f648995",
   "metadata": {},
   "outputs": [],
   "source": [
    "df11_test.info()"
   ]
  },
  {
   "cell_type": "code",
   "execution_count": null,
   "id": "3e11a36a",
   "metadata": {},
   "outputs": [],
   "source": [
    "x_test=df11_test.drop(['id','locale','locale_name','transferred'],axis=1)\n"
   ]
  },
  {
   "cell_type": "code",
   "execution_count": null,
   "id": "35b0a1cf",
   "metadata": {},
   "outputs": [],
   "source": [
    "x_test_clean=x_test.fillna(0) "
   ]
  },
  {
   "cell_type": "markdown",
   "id": "c41a37dc",
   "metadata": {},
   "source": [
    "## Model Lineal regresion"
   ]
  },
  {
   "cell_type": "code",
   "execution_count": null,
   "id": "93cf56eb",
   "metadata": {},
   "outputs": [],
   "source": [
    "from sklearn.linear_model import LinearRegression"
   ]
  },
  {
   "cell_type": "code",
   "execution_count": null,
   "id": "b36c7587",
   "metadata": {},
   "outputs": [],
   "source": [
    "#lm=LinearRegression()"
   ]
  },
  {
   "cell_type": "code",
   "execution_count": null,
   "id": "29c0ba95",
   "metadata": {},
   "outputs": [],
   "source": [
    "X=df11.drop(['transferred','sales','id','locale_name','type_y_Bridge','type_y_Event','type_y_Holiday','type_y_Transfer','paid_day','type_y_Work Day'],axis=1)\n",
    "y=df11['sales']"
   ]
  },
  {
   "cell_type": "code",
   "execution_count": null,
   "id": "74dcb54d",
   "metadata": {},
   "outputs": [],
   "source": [
    "#lm.fit(X,y)"
   ]
  },
  {
   "cell_type": "code",
   "execution_count": null,
   "id": "2e4c9fac",
   "metadata": {},
   "outputs": [],
   "source": [
    "#predict=lm.predict(x_test_clean)"
   ]
  },
  {
   "cell_type": "code",
   "execution_count": null,
   "id": "d53d7387",
   "metadata": {},
   "outputs": [],
   "source": [
    "#predict"
   ]
  },
  {
   "cell_type": "markdown",
   "id": "52ff9193",
   "metadata": {},
   "source": [
    "# Regression tree"
   ]
  },
  {
   "cell_type": "code",
   "execution_count": null,
   "id": "a778fafc",
   "metadata": {},
   "outputs": [],
   "source": [
    "from sklearn.tree import DecisionTreeRegressor"
   ]
  },
  {
   "cell_type": "code",
   "execution_count": null,
   "id": "0e892014",
   "metadata": {},
   "outputs": [],
   "source": [
    "#DTG=DecisionTreeRegressor(random_state = 0)"
   ]
  },
  {
   "cell_type": "code",
   "execution_count": null,
   "id": "1911ae27",
   "metadata": {},
   "outputs": [],
   "source": [
    "#DTG.fit(X, y)"
   ]
  },
  {
   "cell_type": "code",
   "execution_count": null,
   "id": "c5827763",
   "metadata": {},
   "outputs": [],
   "source": [
    "#predictDTR=DTG.predict(x_test_clean)"
   ]
  },
  {
   "cell_type": "markdown",
   "id": "fe1864be",
   "metadata": {},
   "source": [
    "# Random forest"
   ]
  },
  {
   "cell_type": "code",
   "execution_count": null,
   "id": "88acb170",
   "metadata": {},
   "outputs": [],
   "source": [
    "from sklearn.ensemble import RandomForestRegressor"
   ]
  },
  {
   "cell_type": "code",
   "execution_count": null,
   "id": "1b78f966",
   "metadata": {},
   "outputs": [],
   "source": [
    "RFR = RandomForestRegressor(\n",
    "            n_estimators = 60,\n",
    "            criterion    = 'mse',\n",
    "            max_depth    = None,\n",
    "            max_features = 'auto',\n",
    "            oob_score    = False,\n",
    "            n_jobs       = -1,\n",
    "            random_state = 123\n",
    "         )"
   ]
  },
  {
   "cell_type": "code",
   "execution_count": null,
   "id": "9bd63d0d",
   "metadata": {},
   "outputs": [],
   "source": [
    "RFR.fit(X, y)"
   ]
  },
  {
   "cell_type": "code",
   "execution_count": null,
   "id": "fec49440",
   "metadata": {},
   "outputs": [],
   "source": [
    "predictRFR= RFR.predict(x_test_clean)"
   ]
  },
  {
   "cell_type": "markdown",
   "id": "d53cdf13",
   "metadata": {},
   "source": [
    "###  GradientBoostingRegressor"
   ]
  },
  {
   "cell_type": "code",
   "execution_count": null,
   "id": "faf78e69",
   "metadata": {},
   "outputs": [],
   "source": [
    "#from sklearn.ensemble import GradientBoostingRegressor"
   ]
  },
  {
   "cell_type": "code",
   "execution_count": null,
   "id": "66bdab02",
   "metadata": {},
   "outputs": [],
   "source": [
    "#GBR = GradientBoostingRegressor(\n",
    "            n_estimators = 140,\n",
    "            loss         = 'ls',\n",
    "            max_features = 'auto',\n",
    "            random_state = 123\n",
    "         )"
   ]
  },
  {
   "cell_type": "code",
   "execution_count": null,
   "id": "5959400a",
   "metadata": {},
   "outputs": [],
   "source": [
    "#GBR.fit(X, y)"
   ]
  },
  {
   "cell_type": "code",
   "execution_count": null,
   "id": "69c7a919",
   "metadata": {},
   "outputs": [],
   "source": [
    "#predictGBR= GBR.predict(x_test_clean)"
   ]
  },
  {
   "cell_type": "code",
   "execution_count": null,
   "id": "6bedcc26",
   "metadata": {},
   "outputs": [],
   "source": []
  },
  {
   "cell_type": "markdown",
   "id": "001e3593",
   "metadata": {},
   "source": [
    "## Format"
   ]
  },
  {
   "cell_type": "code",
   "execution_count": null,
   "id": "a625315a",
   "metadata": {},
   "outputs": [],
   "source": [
    "sample_submission=pd.read_csv('sample_submission.csv')"
   ]
  },
  {
   "cell_type": "code",
   "execution_count": null,
   "id": "139c5a21",
   "metadata": {},
   "outputs": [],
   "source": [
    "sample_submission['sales']=predictRFR"
   ]
  },
  {
   "cell_type": "code",
   "execution_count": null,
   "id": "c84163c3",
   "metadata": {},
   "outputs": [],
   "source": [
    "sample_submission"
   ]
  },
  {
   "cell_type": "code",
   "execution_count": null,
   "id": "823db47d",
   "metadata": {},
   "outputs": [],
   "source": [
    "sample_submission.to_csv('file_nameRFR60_1.csv',index=False)"
   ]
  },
  {
   "cell_type": "code",
   "execution_count": null,
   "id": "12336181",
   "metadata": {},
   "outputs": [],
   "source": [
    "sample_submission"
   ]
  },
  {
   "cell_type": "code",
   "execution_count": null,
   "id": "e715e902",
   "metadata": {},
   "outputs": [],
   "source": [
    "sample_submission"
   ]
  },
  {
   "cell_type": "code",
   "execution_count": null,
   "id": "0254b339",
   "metadata": {},
   "outputs": [],
   "source": [
    "sample_submission"
   ]
  },
  {
   "cell_type": "code",
   "execution_count": null,
   "id": "56fc09f4",
   "metadata": {},
   "outputs": [],
   "source": [
    "sample_submission"
   ]
  },
  {
   "cell_type": "code",
   "execution_count": null,
   "id": "d6078c62",
   "metadata": {},
   "outputs": [],
   "source": [
    "# Correlación entre columnas numéricas\n",
    "# ==============================================================================\n",
    "\n",
    "def tidy_corr_matrix(corr_mat):\n",
    "    '''\n",
    "    Función para convertir una matrix de correlación de pandas en formato tidy\n",
    "    '''\n",
    "    corr_mat = corr_mat.stack().reset_index()\n",
    "    corr_mat.columns = ['variable_1','variable_2','r']\n",
    "    corr_mat = corr_mat.loc[corr_mat['variable_1'] != corr_mat['variable_2'], :]\n",
    "    corr_mat['abs_r'] = np.abs(corr_mat['r'])\n",
    "    corr_mat = corr_mat.sort_values('abs_r', ascending=False)\n",
    "    \n",
    "    return(corr_mat)\n",
    "\n",
    "df12=df11.drop(['id','locale_name','type_y_Bridge','type_y_Event','type_y_Holiday','type_y_Transfer','paid_day','type_y_Work Day'],axis=1)\n",
    "\n",
    "\n",
    "corr_matrix = df12.select_dtypes(include=['float64', 'int']).corr(method='pearson')\n",
    "tidy_corr_matrix(corr_matrix).head(20)"
   ]
  },
  {
   "cell_type": "code",
   "execution_count": null,
   "id": "ed605978",
   "metadata": {},
   "outputs": [],
   "source": [
    "# Heatmap matriz de correlaciones\n",
    "# ==============================================================================\n",
    "fig, ax = plt.subplots(nrows=1, ncols=1, figsize=(10,10))\n",
    "\n",
    "sns.heatmap(\n",
    "    corr_matrix,\n",
    "    annot     = True,\n",
    "    cbar      = False,\n",
    "    annot_kws = {\"size\": 10},\n",
    "    vmin      = -1,\n",
    "    vmax      = 1,\n",
    "    center    = 0,\n",
    "    cmap      = sns.diverging_palette(20, 220, n=200),\n",
    "    square    = True,\n",
    "    ax        = ax\n",
    ")\n",
    "ax.set_xticklabels(\n",
    "    ax.get_xticklabels(),\n",
    "    rotation = 45,\n",
    "    horizontalalignment = 'right',\n",
    ")\n",
    "\n",
    "ax.tick_params(labelsize = 8)"
   ]
  },
  {
   "cell_type": "code",
   "execution_count": null,
   "id": "88562fe8",
   "metadata": {},
   "outputs": [],
   "source": []
  },
  {
   "cell_type": "code",
   "execution_count": null,
   "id": "743339b4",
   "metadata": {},
   "outputs": [],
   "source": []
  },
  {
   "cell_type": "code",
   "execution_count": null,
   "id": "71930a95",
   "metadata": {},
   "outputs": [],
   "source": []
  },
  {
   "cell_type": "code",
   "execution_count": null,
   "id": "110b3e4e",
   "metadata": {},
   "outputs": [],
   "source": []
  },
  {
   "cell_type": "code",
   "execution_count": null,
   "id": "daadc395",
   "metadata": {},
   "outputs": [],
   "source": []
  }
 ],
 "metadata": {
  "kernelspec": {
   "display_name": "Python 3 (ipykernel)",
   "language": "python",
   "name": "python3"
  },
  "language_info": {
   "codemirror_mode": {
    "name": "ipython",
    "version": 3
   },
   "file_extension": ".py",
   "mimetype": "text/x-python",
   "name": "python",
   "nbconvert_exporter": "python",
   "pygments_lexer": "ipython3",
   "version": "3.9.12"
  }
 },
 "nbformat": 4,
 "nbformat_minor": 5
}
